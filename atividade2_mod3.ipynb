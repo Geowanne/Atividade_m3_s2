{
 "cells": [
  {
   "cell_type": "code",
   "execution_count": 1,
   "metadata": {},
   "outputs": [],
   "source": [
    "def decorator_imprimir(func):\n",
    "    def mensagem(*args):\n",
    "        resposta = func(*args)\n",
    "        msg = F\"CAPITAL: {args[0]} TAXA: {args[1]} TEMPO: {args[2]}\"\n",
    "        msg2 = f\"RESULTADO: {resposta}\"\n",
    "        print(msg)\n",
    "        print(msg2)\n",
    "    return mensagem    "
   ]
  },
  {
   "cell_type": "code",
   "execution_count": 2,
   "metadata": {},
   "outputs": [],
   "source": [
    "@decorator_imprimir\n",
    "def juros_simples(capital, taxa, tempo):\n",
    "    return capital * (taxa/100) * tempo"
   ]
  },
  {
   "cell_type": "code",
   "execution_count": 3,
   "metadata": {},
   "outputs": [
    {
     "name": "stdout",
     "output_type": "stream",
     "text": [
      "CAPITAL: 1000 TAXA: 5 TEMPO: 6\n",
      "RESULTADO: 300.0\n"
     ]
    }
   ],
   "source": [
    "juros_simples(1000, 5, 6)"
   ]
  }
 ],
 "metadata": {
  "kernelspec": {
   "display_name": "Python 3",
   "language": "python",
   "name": "python3"
  },
  "language_info": {
   "codemirror_mode": {
    "name": "ipython",
    "version": 3
   },
   "file_extension": ".py",
   "mimetype": "text/x-python",
   "name": "python",
   "nbconvert_exporter": "python",
   "pygments_lexer": "ipython3",
   "version": "3.10.11"
  },
  "orig_nbformat": 4
 },
 "nbformat": 4,
 "nbformat_minor": 2
}
